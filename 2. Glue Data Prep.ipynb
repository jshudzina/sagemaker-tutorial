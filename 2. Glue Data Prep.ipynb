{
 "cells": [
  {
   "cell_type": "code",
   "execution_count": 1,
   "metadata": {},
   "outputs": [],
   "source": [
    "import boto3 \n",
    "client = boto3.client('glue')"
   ]
  },
  {
   "cell_type": "code",
   "execution_count": 2,
   "metadata": {},
   "outputs": [
    {
     "name": "stdout",
     "output_type": "stream",
     "text": [
      "arn:aws:iam::228889150161:role/SageMakerTutorialRole\n"
     ]
    },
    {
     "name": "stderr",
     "output_type": "stream",
     "text": [
      "INFO:sagemaker:Created S3 bucket: sagemaker-us-east-1-228889150161\n"
     ]
    },
    {
     "name": "stdout",
     "output_type": "stream",
     "text": [
      "sagemaker-us-east-1-228889150161\n"
     ]
    }
   ],
   "source": [
    "import sagemaker\n",
    "from sagemaker import get_execution_role\n",
    "role = get_execution_role()\n",
    "print(role)\n",
    "\n",
    "sagemaker_session = sagemaker.Session()\n",
    "bucket = sagemaker_session.default_bucket()\n",
    "print(bucket)"
   ]
  },
  {
   "cell_type": "code",
   "execution_count": 10,
   "metadata": {},
   "outputs": [
    {
     "data": {
      "text/plain": [
       "{'Name': 'sagemaker-nyt-prep',\n",
       " 'ResponseMetadata': {'HTTPHeaders': {'connection': 'keep-alive',\n",
       "   'content-length': '29',\n",
       "   'content-type': 'application/x-amz-json-1.1',\n",
       "   'date': 'Fri, 01 Jun 2018 22:05:15 GMT',\n",
       "   'x-amzn-requestid': 'dcd77b79-65e7-11e8-be74-79fa2354f605'},\n",
       "  'HTTPStatusCode': 200,\n",
       "  'RequestId': 'dcd77b79-65e7-11e8-be74-79fa2354f605',\n",
       "  'RetryAttempts': 0}}"
      ]
     },
     "execution_count": 10,
     "metadata": {},
     "output_type": "execute_result"
    }
   ],
   "source": [
    "script_loc = 's3://{}/glue/nyt-comments/tokenize.scala'.format(bucket)\n",
    "sagemaker_jar = 's3://{}/glue/nyt-comments/jars/sagemaker-spark_2.11-spark_2.2.0-1.0.5.jar'.format(bucket)\n",
    "\n",
    "client.create_job(Name='sagemaker-nyt-prep',\n",
    "    Description='Spark ML job to create a bag-of-words vector',\n",
    "    Role=role,\n",
    "    Command={\n",
    "        'Name':'glueetl', \n",
    "        'ScriptLocation':script_loc},\n",
    "    DefaultArguments={\n",
    "        '--job-language': 'scala',\n",
    "        '--class': 'Tokenizer'\n",
    "        '--extra-jars': sagemaker_jar,\n",
    "        '--sagemaker-bucket': bucket\n",
    "    })"
   ]
  },
  {
   "cell_type": "code",
   "execution_count": 11,
   "metadata": {},
   "outputs": [
    {
     "data": {
      "text/plain": [
       "{'JobRunId': 'jr_65ef9d4b51bd131324926ca125b86cb77e48e05f2253c5d2211ed0d019ae3bf4',\n",
       " 'ResponseMetadata': {'HTTPHeaders': {'connection': 'keep-alive',\n",
       "   'content-length': '82',\n",
       "   'content-type': 'application/x-amz-json-1.1',\n",
       "   'date': 'Fri, 01 Jun 2018 22:08:13 GMT',\n",
       "   'x-amzn-requestid': '46e152fc-65e8-11e8-a0fd-b56210d48105'},\n",
       "  'HTTPStatusCode': 200,\n",
       "  'RequestId': '46e152fc-65e8-11e8-a0fd-b56210d48105',\n",
       "  'RetryAttempts': 0}}"
      ]
     },
     "execution_count": 11,
     "metadata": {},
     "output_type": "execute_result"
    }
   ],
   "source": [
    "client.start_job_run(JobName='sagemaker-nyt-prep', AllocatedCapacity=10)"
   ]
  },
  {
   "cell_type": "code",
   "execution_count": 12,
   "metadata": {},
   "outputs": [
    {
     "data": {
      "text/plain": [
       "{'Job': {'AllocatedCapacity': 10,\n",
       "  'Command': {'Name': 'glueetl',\n",
       "   'ScriptLocation': 's3://sagemaker-us-east-1-228889150161/glue/nyt-comments/gluetest'},\n",
       "  'Connections': {},\n",
       "  'CreatedOn': datetime.datetime(2018, 5, 31, 20, 56, 1, 125000, tzinfo=tzlocal()),\n",
       "  'DefaultArguments': {'--TempDir': 's3://aws-glue-temporary-228889150161-us-east-1/root',\n",
       "   '--class': 'Tokenizer',\n",
       "   '--extra-jars': 's3://sagemaker-us-east-1-228889150161/glue/nyt-comments/jars/sagemaker-spark_2.11-spark_2.2.0-1.0.5.jar',\n",
       "   '--job-bookmark-option': 'job-bookmark-disable',\n",
       "   '--job-language': 'scala',\n",
       "   'dataset.bucket': 'foo'},\n",
       "  'ExecutionProperty': {'MaxConcurrentRuns': 1},\n",
       "  'LastModifiedOn': datetime.datetime(2018, 6, 1, 21, 48, 9, 886000, tzinfo=tzlocal()),\n",
       "  'MaxRetries': 0,\n",
       "  'Name': 'test2',\n",
       "  'Role': 'arn:aws:iam::228889150161:role/SageMakerTutorialRole',\n",
       "  'Timeout': 2880},\n",
       " 'ResponseMetadata': {'HTTPHeaders': {'connection': 'keep-alive',\n",
       "   'content-length': '715',\n",
       "   'content-type': 'application/x-amz-json-1.1',\n",
       "   'date': 'Fri, 01 Jun 2018 22:22:59 GMT',\n",
       "   'x-amzn-requestid': '56f63a23-65ea-11e8-b1d0-97837f8dc5b9'},\n",
       "  'HTTPStatusCode': 200,\n",
       "  'RequestId': '56f63a23-65ea-11e8-b1d0-97837f8dc5b9',\n",
       "  'RetryAttempts': 0}}"
      ]
     },
     "execution_count": 12,
     "metadata": {},
     "output_type": "execute_result"
    }
   ],
   "source": [
    "client.get_job(JobName='test2')"
   ]
  },
  {
   "cell_type": "code",
   "execution_count": null,
   "metadata": {},
   "outputs": [],
   "source": []
  }
 ],
 "metadata": {
  "kernelspec": {
   "display_name": "conda_python3",
   "language": "python",
   "name": "conda_python3"
  },
  "language_info": {
   "codemirror_mode": {
    "name": "ipython",
    "version": 3
   },
   "file_extension": ".py",
   "mimetype": "text/x-python",
   "name": "python",
   "nbconvert_exporter": "python",
   "pygments_lexer": "ipython3",
   "version": "3.6.4"
  }
 },
 "nbformat": 4,
 "nbformat_minor": 2
}
