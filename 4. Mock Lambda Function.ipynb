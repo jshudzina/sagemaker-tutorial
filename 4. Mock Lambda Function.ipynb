{
 "cells": [
  {
   "cell_type": "markdown",
   "metadata": {},
   "source": [
    "# Mock Lambda Function"
   ]
  },
  {
   "cell_type": "code",
   "execution_count": 7,
   "metadata": {},
   "outputs": [],
   "source": [
    "test_comment = \"The focus on raising the age of gun buyers to 21 is not random: Individuals ages 18 to 20 commit homicides using guns at a rate that’s four times higher than the rate for those over 21, according to Everytown for Gun Safety, using F.B.I. and census data.\\\"<br/><br/>No, it may not be RANDOM, but this statement is highly DECEPTIVE. The overwhelming majority of homicides are committed with illegal handguns. Those who possess them are not purchasing them at retail stores using credit cards and submitting to NICS background checks. They are most often young, frequently gang members, and associated with the drug trade.<br/>In virtually all cases, statistics from Everytown can be shown to be distortions of legitimate FBI, DoJ, and census data.\"\n",
    "\n",
    "test_event = {'comment': test_comment}\n",
    "test_context = None"
   ]
  },
  {
   "cell_type": "code",
   "execution_count": 8,
   "metadata": {},
   "outputs": [],
   "source": [
    "import boto3\n",
    "\n",
    "s3 = boto3.resource('s3')\n",
    "obj = s3.Object('sagemaker-us-east-1-228889150161','data/nyt-features/vocab.json')\n",
    "obj.download_file('vocab.json')"
   ]
  },
  {
   "cell_type": "code",
   "execution_count": 9,
   "metadata": {},
   "outputs": [],
   "source": [
    "import os \n",
    "os.environ['ENDPOINT'] = 'ntm-nyt'"
   ]
  },
  {
   "cell_type": "code",
   "execution_count": 10,
   "metadata": {},
   "outputs": [],
   "source": [
    "import json \n",
    "import re \n",
    "from collections import Counter\n",
    "import boto3\n",
    "import io\n",
    "import os\n",
    "\n",
    "\n",
    "def load_vocab():\n",
    "    with open('vocab.json', 'r') as json_file:\n",
    "        return json.load(json_file)\n",
    "\n",
    "def mock_function(event, context):\n",
    "    vocab = load_vocab()\n",
    "    tokens = re.split(r'\\W+', event['comment'])\n",
    "    \n",
    "    lowercase = map(lambda token: token.lower(), tokens)\n",
    "    vocab_words = filter(lambda token: token in vocab, lowercase)\n",
    "    idx = map(lambda token: vocab[token], vocab_words)\n",
    "    counts = Counter(idx)\n",
    "    \n",
    "    #https://docs.aws.amazon.com/sagemaker/latest/dg/cdf-inference.html\n",
    "    keys = sorted(counts.keys())\n",
    "    values = list(map(lambda key: counts[key], keys))\n",
    "    features = { \"keys\": keys, \"shape\": [len(vocab)],\"values\": values }\n",
    "    \n",
    "    ntm_input = {\"instances\":[{\"data\": {\"features\": features}}]}\n",
    "    req_body = json.dumps(ntm_input)\n",
    "    print(req_body)\n",
    "    \n",
    "    client = boto3.client('sagemaker-runtime')\n",
    "    resp = client.invoke_endpoint(\n",
    "        EndpointName=os.environ['ENDPOINT'],\n",
    "        Body=req_body.encode('utf-8'),\n",
    "        ContentType='application/json',\n",
    "        Accept='application/json'\n",
    "    )\n",
    "        \n",
    "    predictions = json.load(resp[\"Body\"])\n",
    "    return predictions"
   ]
  },
  {
   "cell_type": "code",
   "execution_count": 11,
   "metadata": {},
   "outputs": [
    {
     "name": "stdout",
     "output_type": "stream",
     "text": [
      "{\"instances\": [{\"data\": {\"features\": {\"keys\": [26, 27, 77, 80, 102, 158, 238, 243, 246, 317, 323, 410, 468, 471, 550, 687, 738, 786, 798, 846, 869, 912, 961, 1058, 1070, 1081, 1128, 1200, 1243, 1270, 1363, 1851, 1852, 2137, 2173, 2295, 2527, 2559, 2638, 2765, 2828, 3137, 3449, 3690, 4185, 4417, 4599, 4854], \"shape\": [5000], \"values\": [1, 2, 1, 1, 1, 1, 1, 1, 2, 1, 3, 1, 1, 1, 1, 1, 1, 1, 1, 2, 1, 1, 1, 1, 1, 1, 1, 1, 1, 2, 1, 1, 1, 1, 1, 1, 1, 1, 1, 1, 1, 1, 2, 1, 1, 1, 1, 1]}}}]}\n"
     ]
    }
   ],
   "source": [
    "response = mock_function(test_event, test_context)"
   ]
  },
  {
   "cell_type": "code",
   "execution_count": 12,
   "metadata": {},
   "outputs": [
    {
     "name": "stdout",
     "output_type": "stream",
     "text": [
      "{'predictions': [{'topic_weights': [0.0234206449, 0.0219569486, 0.0244625956, 0.0242984146, 0.0238350872, 0.0264372826, 0.0243257564, 0.0230258852, 0.1415586621, 0.0268683769, 0.0247516725, 0.3408972621, 0.0275082532, 0.0235611908, 0.0246553216, 0.1024556607, 0.0240754802, 0.0239798501, 0.0235598832, 0.0243657827]}]}\n"
     ]
    }
   ],
   "source": [
    "print(response)"
   ]
  },
  {
   "cell_type": "code",
   "execution_count": 15,
   "metadata": {},
   "outputs": [
    {
     "data": {
      "text/plain": [
       "11"
      ]
     },
     "execution_count": 15,
     "metadata": {},
     "output_type": "execute_result"
    }
   ],
   "source": [
    "import numpy as np\n",
    "weigths = response['predictions'][0]['topic_weights']\n",
    "w = np.asarray(weigths)\n",
    "np.argmax(w, axis=0)"
   ]
  },
  {
   "cell_type": "code",
   "execution_count": null,
   "metadata": {},
   "outputs": [],
   "source": [
    "import sagemaker\n",
    "sagemaker_session = sagemaker.Session()\n",
    "sagemaker_session.delete_endpoint('ntm-nyt')"
   ]
  },
  {
   "cell_type": "code",
   "execution_count": null,
   "metadata": {},
   "outputs": [],
   "source": []
  }
 ],
 "metadata": {
  "kernelspec": {
   "display_name": "conda_python3",
   "language": "python",
   "name": "conda_python3"
  },
  "language_info": {
   "codemirror_mode": {
    "name": "ipython",
    "version": 3
   },
   "file_extension": ".py",
   "mimetype": "text/x-python",
   "name": "python",
   "nbconvert_exporter": "python",
   "pygments_lexer": "ipython3",
   "version": "3.6.4"
  }
 },
 "nbformat": 4,
 "nbformat_minor": 2
}
