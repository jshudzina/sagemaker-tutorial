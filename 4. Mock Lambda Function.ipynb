{
 "cells": [
  {
   "cell_type": "markdown",
   "metadata": {},
   "source": [
    "# Mock Lambda Function"
   ]
  },
  {
   "cell_type": "code",
   "execution_count": 1,
   "metadata": {},
   "outputs": [],
   "source": [
    "test_comment = \"The unquestioned value of crypto currencies is that they provide an easy way for organized crime syndicates of all stripes to launder their ill gotten millions and billions while making suckers out of governments and the rest of us.\"\n",
    "\n",
    "test_event = {'comment': test_comment}\n",
    "test_context = None"
   ]
  },
  {
   "cell_type": "code",
   "execution_count": 2,
   "metadata": {},
   "outputs": [],
   "source": [
    "import boto3\n",
    "\n",
    "s3 = boto3.resource('s3')\n",
    "obj = s3.Object('sagemaker-us-east-1-228889150161','data/nyt-features/vocab.json')\n",
    "obj.download_file('vocab.json')"
   ]
  },
  {
   "cell_type": "code",
   "execution_count": 3,
   "metadata": {},
   "outputs": [],
   "source": [
    "import os \n",
    "os.environ['ENDPOINT'] = 'ntm-nyt'"
   ]
  },
  {
   "cell_type": "code",
   "execution_count": 4,
   "metadata": {},
   "outputs": [],
   "source": [
    "import json \n",
    "import re \n",
    "from collections import Counter\n",
    "import boto3\n",
    "import io\n",
    "import os\n",
    "\n",
    "\n",
    "def load_vocab():\n",
    "    with open('vocab.json', 'r') as json_file:\n",
    "        return json.load(json_file)\n",
    "\n",
    "def mock_function(event, context):\n",
    "    vocab = load_vocab()\n",
    "    tokens = re.split(r'\\W+', event['comment'])\n",
    "    \n",
    "    lowercase = map(lambda token: token.lower(), tokens)\n",
    "    vocab_words = filter(lambda token: token in vocab, lowercase)\n",
    "    idx = map(lambda token: vocab[token], vocab_words)\n",
    "    counts = Counter(idx)\n",
    "    \n",
    "    #https://docs.aws.amazon.com/sagemaker/latest/dg/cdf-inference.html\n",
    "    keys = sorted(counts.keys())\n",
    "    values = list(map(lambda key: counts[key], keys))\n",
    "    features = { \"keys\": keys, \"shape\": [len(vocab)],\"values\": values }\n",
    "    \n",
    "    ntm_input = {\"instances\":[{\"data\": {\"features\": features}}]}\n",
    "    req_body = json.dumps(ntm_input)\n",
    "    print(req_body)\n",
    "    \n",
    "    client = boto3.client('sagemaker-runtime')\n",
    "    resp = client.invoke_endpoint(\n",
    "        EndpointName=os.environ['ENDPOINT'],\n",
    "        Body=req_body.encode('utf-8'),\n",
    "        ContentType='application/json',\n",
    "        Accept='application/json'\n",
    "    )\n",
    "        \n",
    "    predictions = json.load(resp[\"Body\"])\n",
    "    return predictions"
   ]
  },
  {
   "cell_type": "code",
   "execution_count": null,
   "metadata": {},
   "outputs": [],
   "source": [
    "response = mock_function(test_event, test_context)"
   ]
  },
  {
   "cell_type": "code",
   "execution_count": null,
   "metadata": {},
   "outputs": [],
   "source": [
    "print(response)"
   ]
  },
  {
   "cell_type": "code",
   "execution_count": null,
   "metadata": {},
   "outputs": [],
   "source": [
    "import sagemaker\n",
    "sagemaker_session = sagemaker.Session()\n",
    "sagemaker_session.delete_endpoint('ntm-nyt')"
   ]
  },
  {
   "cell_type": "code",
   "execution_count": null,
   "metadata": {},
   "outputs": [],
   "source": []
  }
 ],
 "metadata": {
  "kernelspec": {
   "display_name": "conda_python3",
   "language": "python",
   "name": "conda_python3"
  },
  "language_info": {
   "codemirror_mode": {
    "name": "ipython",
    "version": 3
   },
   "file_extension": ".py",
   "mimetype": "text/x-python",
   "name": "python",
   "nbconvert_exporter": "python",
   "pygments_lexer": "ipython3",
   "version": "3.6.4"
  }
 },
 "nbformat": 4,
 "nbformat_minor": 2
}
