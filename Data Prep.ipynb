{
 "cells": [
  {
   "cell_type": "markdown",
   "metadata": {},
   "source": [
    "# Downlaod the dataset\n",
    "\n",
    "Create an API from the [NY Times](http://developer.nytimes.com/signup)"
   ]
  },
  {
   "cell_type": "code",
   "execution_count": 7,
   "metadata": {},
   "outputs": [
    {
     "data": {
      "text/plain": [
       "0"
      ]
     },
     "execution_count": 7,
     "metadata": {},
     "output_type": "execute_result"
    }
   ],
   "source": [
    "from subprocess import call\n",
    "call([\"pip\",\"install\",\"kaggle\"])"
   ]
  },
  {
   "cell_type": "markdown",
   "metadata": {},
   "source": [
    "## API credentials\n",
    "\n",
    "To use the Kaggle API, sign up for a Kaggle account at https://www.kaggle.com. Then go to the 'Account' tab of your user profile (`https://www.kaggle.com/<username>/account`) and select 'Create API Token'. This will trigger the download of `kaggle.json`, a file containing your API credentials. Place this file in the location `~/.kaggle/kaggle.json`"
   ]
  },
  {
   "cell_type": "code",
   "execution_count": 25,
   "metadata": {},
   "outputs": [
    {
     "name": "stdout",
     "output_type": "stream",
     "text": [
      "Warning: Your Kaggle API key is readable by other users on this system! To fix this, you can run 'chmod 600 /home/ec2-user/.kaggle/kaggle.json'\n",
      "CommentsMarch2018.csv.zip: Downloaded 1MB of 54MB to .\r",
      "CommentsMarch2018.csv.zip: Downloaded 2MB of 54MB to .\r",
      "CommentsMarch2018.csv.zip: Downloaded 3MB of 54MB to .\r",
      "CommentsMarch2018.csv.zip: Downloaded 4MB of 54MB to .\r",
      "CommentsMarch2018.csv.zip: Downloaded 5MB of 54MB to .\r",
      "CommentsMarch2018.csv.zip: Downloaded 6MB of 54MB to .\r",
      "CommentsMarch2018.csv.zip: Downloaded 7MB of 54MB to .\r",
      "CommentsMarch2018.csv.zip: Downloaded 8MB of 54MB to .\r",
      "CommentsMarch2018.csv.zip: Downloaded 9MB of 54MB to .\r",
      "CommentsMarch2018.csv.zip: Downloaded 10MB of 54MB to .\r",
      "CommentsMarch2018.csv.zip: Downloaded 11MB of 54MB to .\r",
      "CommentsMarch2018.csv.zip: Downloaded 12MB of 54MB to .\r",
      "CommentsMarch2018.csv.zip: Downloaded 13MB of 54MB to .\r",
      "CommentsMarch2018.csv.zip: Downloaded 14MB of 54MB to .\r",
      "CommentsMarch2018.csv.zip: Downloaded 15MB of 54MB to .\r",
      "CommentsMarch2018.csv.zip: Downloaded 16MB of 54MB to .\r",
      "CommentsMarch2018.csv.zip: Downloaded 17MB of 54MB to .\r",
      "CommentsMarch2018.csv.zip: Downloaded 18MB of 54MB to .\r",
      "CommentsMarch2018.csv.zip: Downloaded 19MB of 54MB to .\r",
      "CommentsMarch2018.csv.zip: Downloaded 20MB of 54MB to .\r",
      "CommentsMarch2018.csv.zip: Downloaded 21MB of 54MB to .\r",
      "CommentsMarch2018.csv.zip: Downloaded 22MB of 54MB to .\r",
      "CommentsMarch2018.csv.zip: Downloaded 23MB of 54MB to .\r",
      "CommentsMarch2018.csv.zip: Downloaded 24MB of 54MB to .\r",
      "CommentsMarch2018.csv.zip: Downloaded 25MB of 54MB to .\r",
      "CommentsMarch2018.csv.zip: Downloaded 26MB of 54MB to .\r",
      "CommentsMarch2018.csv.zip: Downloaded 27MB of 54MB to .\r",
      "CommentsMarch2018.csv.zip: Downloaded 28MB of 54MB to .\r",
      "CommentsMarch2018.csv.zip: Downloaded 29MB of 54MB to .\r",
      "CommentsMarch2018.csv.zip: Downloaded 30MB of 54MB to .\r",
      "CommentsMarch2018.csv.zip: Downloaded 31MB of 54MB to .\r",
      "CommentsMarch2018.csv.zip: Downloaded 32MB of 54MB to .\r",
      "CommentsMarch2018.csv.zip: Downloaded 33MB of 54MB to .\r",
      "CommentsMarch2018.csv.zip: Downloaded 34MB of 54MB to .\r",
      "CommentsMarch2018.csv.zip: Downloaded 35MB of 54MB to .\r",
      "CommentsMarch2018.csv.zip: Downloaded 36MB of 54MB to .\r",
      "CommentsMarch2018.csv.zip: Downloaded 37MB of 54MB to .\r",
      "CommentsMarch2018.csv.zip: Downloaded 38MB of 54MB to .\r",
      "CommentsMarch2018.csv.zip: Downloaded 39MB of 54MB to .\r",
      "CommentsMarch2018.csv.zip: Downloaded 40MB of 54MB to .\r",
      "CommentsMarch2018.csv.zip: Downloaded 41MB of 54MB to .\r",
      "CommentsMarch2018.csv.zip: Downloaded 42MB of 54MB to .\r",
      "CommentsMarch2018.csv.zip: Downloaded 43MB of 54MB to .\r",
      "CommentsMarch2018.csv.zip: Downloaded 44MB of 54MB to .\r",
      "CommentsMarch2018.csv.zip: Downloaded 45MB of 54MB to .\r",
      "CommentsMarch2018.csv.zip: Downloaded 46MB of 54MB to .\r",
      "CommentsMarch2018.csv.zip: Downloaded 47MB of 54MB to .\r",
      "CommentsMarch2018.csv.zip: Downloaded 48MB of 54MB to .\r",
      "CommentsMarch2018.csv.zip: Downloaded 49MB of 54MB to .\r",
      "CommentsMarch2018.csv.zip: Downloaded 50MB of 54MB to .\r",
      "CommentsMarch2018.csv.zip: Downloaded 51MB of 54MB to .\r",
      "CommentsMarch2018.csv.zip: Downloaded 52MB of 54MB to .\r",
      "CommentsMarch2018.csv.zip: Downloaded 53MB of 54MB to .\r",
      "CommentsMarch2018.csv.zip: Downloaded 54MB of 54MB to .\r",
      "CommentsMarch2018.csv.zip: Downloaded 54MB of 54MB to .\r\n",
      "\n",
      "\n"
     ]
    }
   ],
   "source": [
    "from subprocess import Popen, PIPE\n",
    "p1 = Popen([\"kaggle\",\"datasets\", \"download\", \"-d\", \"aashita/nyt-comments\", \"-f\", \"CommentsMarch2018.csv\", \"-w\"], stdout=PIPE, stderr=PIPE)\n",
    "resp = p1.communicate()\n",
    "print(resp[0].decode(\"utf-8\"))\n",
    "print(resp[1].decode(\"utf-8\"))"
   ]
  },
  {
   "cell_type": "code",
   "execution_count": 26,
   "metadata": {},
   "outputs": [],
   "source": [
    "import zipfile\n",
    "zip_ref = zipfile.ZipFile(\"CommentsMarch2018.csv.zip\", 'r')\n",
    "zip_ref.extractall(\".\")\n",
    "zip_ref.close()"
   ]
  },
  {
   "cell_type": "code",
   "execution_count": null,
   "metadata": {},
   "outputs": [],
   "source": []
  }
 ],
 "metadata": {
  "kernelspec": {
   "display_name": "conda_python3",
   "language": "python",
   "name": "conda_python3"
  },
  "language_info": {
   "codemirror_mode": {
    "name": "ipython",
    "version": 3
   },
   "file_extension": ".py",
   "mimetype": "text/x-python",
   "name": "python",
   "nbconvert_exporter": "python",
   "pygments_lexer": "ipython3",
   "version": "3.6.4"
  }
 },
 "nbformat": 4,
 "nbformat_minor": 2
}
